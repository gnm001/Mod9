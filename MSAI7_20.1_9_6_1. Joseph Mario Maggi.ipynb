{
 "cells": [
  {
   "cell_type": "markdown",
   "id": "6504e489-839c-47b7-b783-e2f5251a2ba4",
   "metadata": {},
   "source": [
    "# __Module 9 Task 1__\n",
    "##  MSAI7_20.1_9_6\n",
    "##  7th May 2025\n",
    "### Joseph Mario Maggi\n"
   ]
  },
  {
   "cell_type": "markdown",
   "id": "e05965e7-bb3f-4d66-bd50-75c454a33dcd",
   "metadata": {},
   "source": [
    "# Step 1:  Loading of Python Libraries to review data, sort out and clean data\n",
    "###  First Step is to load in the Jupyter Notebook and the libraries to be used to review the datafile found on Kaggle"
   ]
  },
  {
   "cell_type": "code",
   "execution_count": null,
   "id": "1c08925b-9019-4a4a-be62-d87d64ba8581",
   "metadata": {},
   "outputs": [],
   "source": [
    "import pandas as pd  #  Pandas is useful to load clean and handle tabulated data\n",
    "import numpy as np   #Numpy has commond as pre defined functions for mathamatical operations\n",
    "import matplotlib.pyplot as plt  #Pre defined functions for plotting data purposes\n",
    "import seaborn as sns  #  For statistical visualizations\n",
    "%matplotlib inline  #To plot directly below in the code cells itself"
   ]
  },
  {
   "cell_type": "markdown",
   "id": "76386da0",
   "metadata": {},
   "source": [
    "#  Step 2:  To call the data file in which the dataset is found"
   ]
  },
  {
   "cell_type": "code",
   "execution_count": null,
   "id": "220d9b9e",
   "metadata": {},
   "outputs": [],
   "source": []
  },
  {
   "cell_type": "markdown",
   "id": "0c542f74",
   "metadata": {},
   "source": [
    "# Step 3:  To explore the data set."
   ]
  },
  {
   "cell_type": "markdown",
   "id": "9fde1f07",
   "metadata": {},
   "source": [
    "# Step 4:  To sort and clean the dataset post step 3.  This includes finding empty or missing values, duplicates and same data being referenced in different manner."
   ]
  },
  {
   "cell_type": "markdown",
   "id": "a59c6743",
   "metadata": {},
   "source": [
    "#  Step 5:  Decide what to do with this data highlighted in step 4.  This could mean whether you are going to eliminate, refill, or fill in empty data  "
   ]
  },
  {
   "cell_type": "markdown",
   "id": "aa72a6b2",
   "metadata": {},
   "source": [
    "#  Step 6:  Visualise the data to highlight which data is most relevant for the problem in hand - The Salient Datapoint"
   ]
  }
 ],
 "metadata": {
  "kernelspec": {
   "display_name": "Python [conda env:base] *",
   "language": "python",
   "name": "conda-base-py"
  },
  "language_info": {
   "codemirror_mode": {
    "name": "ipython",
    "version": 3
   },
   "file_extension": ".py",
   "mimetype": "text/x-python",
   "name": "python",
   "nbconvert_exporter": "python",
   "pygments_lexer": "ipython3",
   "version": "3.12.7"
  }
 },
 "nbformat": 4,
 "nbformat_minor": 5
}
