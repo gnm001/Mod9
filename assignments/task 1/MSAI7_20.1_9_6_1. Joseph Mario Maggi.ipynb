{
 "cells": [
  {
   "cell_type": "markdown",
   "id": "6504e489-839c-47b7-b783-e2f5251a2ba4",
   "metadata": {},
   "source": [
    "# __Module 9 Task 1__\n",
    "##  MSAI7_20.1_9_6\n",
    "##  7th May 2025\n",
    "### Joseph Mario Maggi\n"
   ]
  },
  {
   "cell_type": "markdown",
   "id": "e05965e7-bb3f-4d66-bd50-75c454a33dcd",
   "metadata": {},
   "source": [
    "# Step 1:  Loading of tools to review data, sort out and clean data\n",
    "###  First Step is to load in the Jupyter Notebook the libraries to be used to review the datafile found on Kaggle"
   ]
  },
  {
   "cell_type": "code",
   "execution_count": null,
   "id": "1c08925b-9019-4a4a-be62-d87d64ba8581",
   "metadata": {},
   "outputs": [],
   "source": [
    "import pandas as pd  #  Pandas is useful to load clean and handle tabulated data\n",
    "import numpy as np   #Numpy has commond as pre defined functions for mathamatical operations\n",
    "import matplotlib.pyplot as plt  #Pre defined functions for plotting data purposes\n",
    "import seaborn as sns  #"
   ]
  },
  {
   "cell_type": "code",
   "execution_count": null,
   "id": "b2d70e58-825a-46bc-a83f-10685fcb6696",
   "metadata": {},
   "outputs": [],
   "source": []
  }
 ],
 "metadata": {
  "kernelspec": {
   "display_name": "Python [conda env:base] *",
   "language": "python",
   "name": "conda-base-py"
  },
  "language_info": {
   "codemirror_mode": {
    "name": "ipython",
    "version": 3
   },
   "file_extension": ".py",
   "mimetype": "text/x-python",
   "name": "python",
   "nbconvert_exporter": "python",
   "pygments_lexer": "ipython3",
   "version": "3.12.7"
  }
 },
 "nbformat": 4,
 "nbformat_minor": 5
}
