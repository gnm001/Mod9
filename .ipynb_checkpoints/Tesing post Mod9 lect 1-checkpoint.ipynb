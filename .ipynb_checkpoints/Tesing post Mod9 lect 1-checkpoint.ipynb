{
 "cells": [
  {
   "cell_type": "markdown",
   "id": "99a66612-598e-42cd-8c59-6bc83804f1a6",
   "metadata": {},
   "source": [
    "# This is the Mod 9 lect 1 test\n",
    "## This is the indentation"
   ]
  },
  {
   "cell_type": "code",
   "execution_count": 26,
   "id": "f66a40dc-5246-4e19-9a4a-e31135efd298",
   "metadata": {},
   "outputs": [
    {
     "name": "stdout",
     "output_type": "stream",
     "text": [
      "Hello World\n"
     ]
    }
   ],
   "source": [
    "print(\"Hello World\")"
   ]
  },
  {
   "cell_type": "code",
   "execution_count": 28,
   "id": "dbc25b84-d1fc-4582-af73-c220f0c4193b",
   "metadata": {},
   "outputs": [
    {
     "data": {
      "text/plain": [
       "'Hello, Jack!'"
      ]
     },
     "execution_count": 28,
     "metadata": {},
     "output_type": "execute_result"
    }
   ],
   "source": [
    "def say_hello (recipient):\n",
    "    return \"Hello, {}!\".format(recipient)\n",
    "say_hello(\"Jack\")"
   ]
  },
  {
   "cell_type": "markdown",
   "id": "a16c8be7-b698-4a46-b676-114f011068c7",
   "metadata": {},
   "source": []
  },
  {
   "cell_type": "markdown",
   "id": "878a80f5-2469-4491-b7db-e2a41940c682",
   "metadata": {},
   "source": [
    "# This should be normal\n",
    "# __This should be bold__\n",
    "# _This should be italic_\n",
    "# -Ths should have bullets\n",
    "# x=100^2\n",
    "# \"(tostartequationmode)and\"\n",
    "\n",
    "\\begin{align}\n",
    "\\dot{x} & = \\sigma(y-x) \\\\\n",
    "\\dot{y} & = \\rho x - y - xz \\\\\n",
    "\\dot{z} & = -\\beta z + xy\n",
    "\\end{align}\n",
    "\n",
    "\n"
   ]
  },
  {
   "cell_type": "markdown",
   "id": "384bd5b9-0c31-43b3-baa2-2674dcef126c",
   "metadata": {},
   "source": [
    "\\begin{equation*}\n",
    "\\left( \\sum_{k=1}^n a_k b_k \\right)^2 \\leq \\left( \\sum_{k=1}^n a_k^2 \\right) \\left( \\sum_{k=1}^n b_k^2 \\right)\n",
    "\\end{equation*}"
   ]
  },
  {
   "cell_type": "code",
   "execution_count": null,
   "id": "584ca1d1-ad22-4d07-99e7-444ec09de49f",
   "metadata": {},
   "outputs": [],
   "source": []
  },
  {
   "cell_type": "code",
   "execution_count": null,
   "id": "8cdbc284-0d9e-4b5a-a59f-5e1a4c74a960",
   "metadata": {},
   "outputs": [],
   "source": []
  },
  {
   "cell_type": "code",
   "execution_count": null,
   "id": "eb76935a-9a2f-4278-8de7-e5850179c7c8",
   "metadata": {},
   "outputs": [],
   "source": []
  },
  {
   "cell_type": "code",
   "execution_count": null,
   "id": "664052cd-916a-4f55-92cf-c03a42b3e92f",
   "metadata": {},
   "outputs": [],
   "source": []
  },
  {
   "cell_type": "code",
   "execution_count": null,
   "id": "1e12b88b-f9ad-4939-ae27-353b22719522",
   "metadata": {},
   "outputs": [],
   "source": []
  }
 ],
 "metadata": {
  "kernelspec": {
   "display_name": "Python [conda env:base] *",
   "language": "python",
   "name": "conda-base-py"
  },
  "language_info": {
   "codemirror_mode": {
    "name": "ipython",
    "version": 3
   },
   "file_extension": ".py",
   "mimetype": "text/x-python",
   "name": "python",
   "nbconvert_exporter": "python",
   "pygments_lexer": "ipython3",
   "version": "3.12.7"
  }
 },
 "nbformat": 4,
 "nbformat_minor": 5
}
