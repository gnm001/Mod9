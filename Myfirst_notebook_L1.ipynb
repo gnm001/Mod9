{
 "cells": [
  {
   "cell_type": "markdown",
   "id": "176f1c49-4659-4a27-974b-f0690ad1053a",
   "metadata": {},
   "source": [
    "# This is my first notebook\n",
    "\n",
    "The repository to test things out for DSS in lesson 1\n",
    "## This is a subheading\n",
    "\n",
    "\n"
   ]
  },
  {
   "cell_type": "code",
   "execution_count": 3,
   "id": "8528d3f3-e759-4a97-aa28-0cf763a8aea9",
   "metadata": {},
   "outputs": [
    {
     "name": "stdout",
     "output_type": "stream",
     "text": [
      "Hello World\n"
     ]
    }
   ],
   "source": [
    "print (\"Hello World\")"
   ]
  },
  {
   "cell_type": "code",
   "execution_count": null,
   "id": "4f1e31bb-3f49-49af-a3a0-382a83813a3c",
   "metadata": {},
   "outputs": [],
   "source": [
    "    "
   ]
  }
 ],
 "metadata": {
  "kernelspec": {
   "display_name": "Python [conda env:base] *",
   "language": "python",
   "name": "conda-base-py"
  },
  "language_info": {
   "codemirror_mode": {
    "name": "ipython",
    "version": 3
   },
   "file_extension": ".py",
   "mimetype": "text/x-python",
   "name": "python",
   "nbconvert_exporter": "python",
   "pygments_lexer": "ipython3",
   "version": "3.12.7"
  }
 },
 "nbformat": 4,
 "nbformat_minor": 5
}
