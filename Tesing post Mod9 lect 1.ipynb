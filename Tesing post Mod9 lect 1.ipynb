{
 "cells": [
  {
   "cell_type": "markdown",
   "id": "99a66612-598e-42cd-8c59-6bc83804f1a6",
   "metadata": {},
   "source": [
    "# This is the Mod 9 lect 1 test\n",
    "## This is the indentation"
   ]
  },
  {
   "cell_type": "code",
   "execution_count": 2,
   "id": "f66a40dc-5246-4e19-9a4a-e31135efd298",
   "metadata": {},
   "outputs": [
    {
     "name": "stdout",
     "output_type": "stream",
     "text": [
      "Hello World\n"
     ]
    }
   ],
   "source": [
    "print(\"Hello World\")"
   ]
  },
  {
   "cell_type": "code",
   "execution_count": 3,
   "id": "dbc25b84-d1fc-4582-af73-c220f0c4193b",
   "metadata": {},
   "outputs": [
    {
     "data": {
      "text/plain": [
       "'Hello, Jack!'"
      ]
     },
     "execution_count": 3,
     "metadata": {},
     "output_type": "execute_result"
    }
   ],
   "source": [
    "def say_hello (recipient):\n",
    "    return \"Hello, {}!\".format(recipient)\n",
    "say_hello(\"Jack\")"
   ]
  },
  {
   "cell_type": "markdown",
   "id": "a16c8be7-b698-4a46-b676-114f011068c7",
   "metadata": {},
   "source": []
  },
  {
   "cell_type": "markdown",
   "id": "878a80f5-2469-4491-b7db-e2a41940c682",
   "metadata": {},
   "source": [
    "# This should be normal\n",
    "# __This should be bold__\n",
    "# _This should be italic_\n",
    "# -Ths should have bullets\n",
    "# x=100^2\n",
    "# \"(tostartequationmode)and\"\n",
    "\n",
    "\\begin{align}\n",
    "\\dot{x} & = \\sigma(y-x) \\\\\n",
    "\\dot{y} & = \\rho x - y - xz \\\\\n",
    "\\dot{z} & = -\\beta z + xy\n",
    "\\end{align}\n",
    "\n",
    "\n"
   ]
  },
  {
   "cell_type": "markdown",
   "id": "384bd5b9-0c31-43b3-baa2-2674dcef126c",
   "metadata": {},
   "source": [
    "\\begin{equation*}\n",
    "\\left( \\sum_{k=1}^n a_k b_k \\right)^2 \\leq \\left( \\sum_{k=1}^n a_k^2 \\right) \\left( \\sum_{k=1}^n b_k^2 \\right)\n",
    "\\end{equation*}"
   ]
  },
  {
   "cell_type": "code",
   "execution_count": 7,
   "id": "584ca1d1-ad22-4d07-99e7-444ec09de49f",
   "metadata": {},
   "outputs": [],
   "source": [
    "website = \"https://example.com\""
   ]
  },
  {
   "cell_type": "code",
   "execution_count": 15,
   "id": "8cdbc284-0d9e-4b5a-a59f-5e1a4c74a960",
   "metadata": {},
   "outputs": [
    {
     "data": {
      "text/plain": [
       "8"
      ]
     },
     "execution_count": 15,
     "metadata": {},
     "output_type": "execute_result"
    }
   ],
   "source": [
    "2+6\n"
   ]
  },
  {
   "cell_type": "code",
   "execution_count": 18,
   "id": "eb76935a-9a2f-4278-8de7-e5850179c7c8",
   "metadata": {},
   "outputs": [],
   "source": [
    "x=5\n",
    "y='One small step for man, '\n",
    "a='one giant leap for mankind'\n",
    "z=6.0"
   ]
  },
  {
   "cell_type": "code",
   "execution_count": 20,
   "id": "664052cd-916a-4f55-92cf-c03a42b3e92f",
   "metadata": {},
   "outputs": [
    {
     "data": {
      "text/plain": [
       "11.0"
      ]
     },
     "execution_count": 20,
     "metadata": {},
     "output_type": "execute_result"
    }
   ],
   "source": [
    "x+z"
   ]
  },
  {
   "cell_type": "code",
   "execution_count": 22,
   "id": "1e12b88b-f9ad-4939-ae27-353b22719522",
   "metadata": {},
   "outputs": [
    {
     "data": {
      "text/plain": [
       "'One small step for man, one giant leap for mankind'"
      ]
     },
     "execution_count": 22,
     "metadata": {},
     "output_type": "execute_result"
    }
   ],
   "source": [
    "y+a"
   ]
  },
  {
   "cell_type": "code",
   "execution_count": 26,
   "id": "2184d867-5c21-4c69-8c07-ba3a61ebb131",
   "metadata": {},
   "outputs": [
    {
     "name": "stdout",
     "output_type": "stream",
     "text": [
      "The value of y is 6160\n",
      "The value of x=2500 is 585937500006250000\n"
     ]
    }
   ],
   "source": [
    "x=4\n",
    "y = 6*x**5+x**2\n",
    "print (\"The value of y is\",y)\n",
    "x=2500\n",
    "y = 6*x**5+x**2\n",
    "print (\"The value of x=2500 is\",y)"
   ]
  },
  {
   "cell_type": "code",
   "execution_count": 28,
   "id": "7c8a0cc7-e12c-4124-9064-f4421a84697d",
   "metadata": {},
   "outputs": [
    {
     "name": "stdout",
     "output_type": "stream",
     "text": [
      "Support\n"
     ]
    }
   ],
   "source": [
    "string1 = \"Desicion Support Systems\"\n",
    "\n",
    "# Extracting the word \"Support\" using slicing\n",
    "support_word = string1[9:16]\n",
    "\n",
    "print(support_word)\n"
   ]
  },
  {
   "cell_type": "code",
   "execution_count": null,
   "id": "abfb52e7-0ba3-4b3e-8d3e-4ac6b6f7ee29",
   "metadata": {},
   "outputs": [],
   "source": []
  }
 ],
 "metadata": {
  "kernelspec": {
   "display_name": "Python [conda env:base] *",
   "language": "python",
   "name": "conda-base-py"
  },
  "language_info": {
   "codemirror_mode": {
    "name": "ipython",
    "version": 3
   },
   "file_extension": ".py",
   "mimetype": "text/x-python",
   "name": "python",
   "nbconvert_exporter": "python",
   "pygments_lexer": "ipython3",
   "version": "3.12.7"
  }
 },
 "nbformat": 4,
 "nbformat_minor": 5
}
